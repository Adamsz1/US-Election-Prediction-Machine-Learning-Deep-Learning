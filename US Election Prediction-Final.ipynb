{
 "cells": [
  {
   "cell_type": "code",
   "execution_count": 102,
   "id": "c709612d",
   "metadata": {},
   "outputs": [
    {
     "name": "stdout",
     "output_type": "stream",
     "text": [
      "Pandas Version: 1.4.3\n",
      "Numpy Version: 1.22.4\n",
      "Sci-Kit Learn Version: 1.1.1\n",
      "Tensorflow Learn Version: 2.11.0\n"
     ]
    }
   ],
   "source": [
    "\n",
    "############# PREDICTING US ELECTIONS WITH MACHINE LEARNING/DEEP LEARNING #####################################################\n",
    "#\n",
    "# In this project I am using publically available data on the 2016 US Election to see how well the outcome could have been \n",
    "# predicted at a county level. I will use a number of models, increasing in complexity, from K-Nearest Neighbor to a Tensorflow\n",
    "# Neural network, to see which approach is best. Results and analysis are at the bottom of the notebook  \n",
    "#                                                                                   - Project by Adam Szczepanski\n",
    "###############################################################################################################################\n",
    "\n",
    "import pandas as pd\n",
    "import numpy as np\n",
    "import sklearn\n",
    "import os\n",
    "import tensorflow as tf\n",
    "import xgboost as xgb\n",
    "from sklearn.metrics import accuracy_score\n",
    "from xgboost import XGBClassifier\n",
    "from xgboost import plot_importance\n",
    "\n",
    "#versions\n",
    "print('Pandas Version: {}'.format(pd.__version__))\n",
    "print('Numpy Version: {}'.format(np.__version__))\n",
    "print('Sci-Kit Learn Version: {}'.format(sklearn.__version__))\n",
    "print('Tensorflow Learn Version: {}'.format(tf.__version__))\n",
    "\n",
    "\n",
    "#visualization\n",
    "import matplotlib.pyplot as plt\n",
    "from mpl_toolkits.mplot3d import Axes3D\n",
    "\n",
    "%matplotlib inline"
   ]
  },
  {
   "cell_type": "code",
   "execution_count": 103,
   "id": "e3016ce0",
   "metadata": {},
   "outputs": [
    {
     "name": "stdout",
     "output_type": "stream",
     "text": [
      "C:\\Users\\Owner\\Desktop\\Winpython 3.10\\WPy64-31050\\notebooks\\Machine Learning\\TensorFlow 2.0\n",
      "   fips  winner  population_change  pop010210  age135214  age295214  \\\n",
      "0  1001       0                1.5      54571        6.0       25.2   \n",
      "1  1003       0                9.8     182265        5.6       22.2   \n",
      "2  1005       0               -2.1      27457        5.7       21.2   \n",
      "3  1007       0               -1.8      22915        5.3       21.0   \n",
      "4  1009       0                0.7      57322        6.1       23.6   \n",
      "\n",
      "   age65plus  sex255214  pop715213  pop645213  ...  sbo415207  sbo015207  \\\n",
      "0       13.8       51.4       85.0        1.6  ...        0.7       31.7   \n",
      "1       18.7       51.2       82.1        3.6  ...        1.3       27.3   \n",
      "2       16.5       46.6       84.8        2.9  ...        0.0       27.0   \n",
      "3       14.8       45.9       86.6        1.2  ...        0.0        0.0   \n",
      "4       17.0       50.5       88.7        4.3  ...        0.0       23.2   \n",
      "\n",
      "   man450207  wtn220207  rtn130207  rtn131207  afn120207  bps030214  \\\n",
      "0          0          0     598175      12003      88157        131   \n",
      "1    1410273          0    2966489      17166     436955       1384   \n",
      "2          0          0     188337       6334          0          8   \n",
      "3          0          0     124707       5804      10757         19   \n",
      "4     341544          0     319700       5622      20941          3   \n",
      "\n",
      "   lnd110210  density  \n",
      "0     594.44     91.8  \n",
      "1    1589.78    114.6  \n",
      "2     884.88     31.0  \n",
      "3     622.58     36.8  \n",
      "4     644.78     88.9  \n",
      "\n",
      "[5 rows x 43 columns]\n",
      "\n",
      "\n",
      "Column Names:\n",
      " ['fips', 'winner', 'population_change', 'pop010210', 'age135214', 'age295214', 'age65plus', 'sex255214', 'pop715213', 'pop645213', 'nonenglish', 'edu_highschool', 'edu_batchelors', 'vet605213', 'lfe305213', 'hsg010214', 'hsg445213', 'hsg096213', 'hsg495213', 'hsd410213', 'hsd310213', 'income', 'inc110213', 'poverty', 'bza010213', 'bza110213', 'bza115213', 'nes010213', 'sbo001207', 'sbo315207', 'sbo115207', 'sbo215207', 'sbo515207', 'sbo415207', 'sbo015207', 'man450207', 'wtn220207', 'rtn130207', 'rtn131207', 'afn120207', 'bps030214', 'lnd110210', 'density']\n",
      "\n",
      "<class 'pandas.core.frame.DataFrame'>\n",
      "RangeIndex: 3112 entries, 0 to 3111\n",
      "Data columns (total 43 columns):\n",
      " #   Column             Non-Null Count  Dtype  \n",
      "---  ------             --------------  -----  \n",
      " 0   fips               3112 non-null   int64  \n",
      " 1   winner             3112 non-null   int64  \n",
      " 2   population_change  3112 non-null   float64\n",
      " 3   pop010210          3112 non-null   int64  \n",
      " 4   age135214          3112 non-null   float64\n",
      " 5   age295214          3112 non-null   float64\n",
      " 6   age65plus          3112 non-null   float64\n",
      " 7   sex255214          3112 non-null   float64\n",
      " 8   pop715213          3112 non-null   float64\n",
      " 9   pop645213          3112 non-null   float64\n",
      " 10  nonenglish         3112 non-null   float64\n",
      " 11  edu_highschool     3112 non-null   float64\n",
      " 12  edu_batchelors     3112 non-null   float64\n",
      " 13  vet605213          3112 non-null   int64  \n",
      " 14  lfe305213          3112 non-null   float64\n",
      " 15  hsg010214          3112 non-null   int64  \n",
      " 16  hsg445213          3112 non-null   float64\n",
      " 17  hsg096213          3112 non-null   float64\n",
      " 18  hsg495213          3112 non-null   int64  \n",
      " 19  hsd410213          3112 non-null   int64  \n",
      " 20  hsd310213          3112 non-null   float64\n",
      " 21  income             3112 non-null   int64  \n",
      " 22  inc110213          3112 non-null   int64  \n",
      " 23  poverty            3112 non-null   float64\n",
      " 24  bza010213          3112 non-null   int64  \n",
      " 25  bza110213          3112 non-null   int64  \n",
      " 26  bza115213          3112 non-null   float64\n",
      " 27  nes010213          3112 non-null   int64  \n",
      " 28  sbo001207          3112 non-null   int64  \n",
      " 29  sbo315207          3112 non-null   float64\n",
      " 30  sbo115207          3112 non-null   float64\n",
      " 31  sbo215207          3112 non-null   float64\n",
      " 32  sbo515207          3112 non-null   float64\n",
      " 33  sbo415207          3112 non-null   float64\n",
      " 34  sbo015207          3112 non-null   float64\n",
      " 35  man450207          3112 non-null   int64  \n",
      " 36  wtn220207          3112 non-null   int64  \n",
      " 37  rtn130207          3112 non-null   int64  \n",
      " 38  rtn131207          3112 non-null   int64  \n",
      " 39  afn120207          3112 non-null   int64  \n",
      " 40  bps030214          3112 non-null   int64  \n",
      " 41  lnd110210          3112 non-null   float64\n",
      " 42  density            3112 non-null   float64\n",
      "dtypes: float64(24), int64(19)\n",
      "memory usage: 1.0 MB\n",
      "Info: None\n",
      "\n",
      "['fips', 'winner', 'population_change', 'pop010210', 'age135214', 'age295214', 'age65plus', 'sex255214', 'pop715213', 'pop645213', 'nonenglish', 'edu_highschool', 'edu_batchelors', 'vet605213', 'lfe305213', 'hsg010214', 'hsg445213', 'hsg096213', 'hsg495213', 'hsd410213', 'hsd310213', 'income', 'inc110213', 'poverty', 'bza010213', 'bza110213', 'bza115213', 'nes010213', 'sbo001207', 'sbo315207', 'sbo115207', 'sbo215207', 'sbo515207', 'sbo415207', 'sbo015207', 'man450207', 'wtn220207', 'rtn130207', 'rtn131207', 'afn120207', 'bps030214', 'lnd110210', 'density']\n",
      "\n",
      "\n",
      "<class 'pandas.core.frame.DataFrame'>\n",
      "RangeIndex: 3112 entries, 0 to 3111\n",
      "Data columns (total 43 columns):\n",
      " #   Column             Non-Null Count  Dtype  \n",
      "---  ------             --------------  -----  \n",
      " 0   fips               3112 non-null   int64  \n",
      " 1   winner             3112 non-null   int64  \n",
      " 2   population_change  3112 non-null   float64\n",
      " 3   pop010210          3112 non-null   int64  \n",
      " 4   age135214          3112 non-null   float64\n",
      " 5   age295214          3112 non-null   float64\n",
      " 6   age65plus          3112 non-null   float64\n",
      " 7   sex255214          3112 non-null   float64\n",
      " 8   pop715213          3112 non-null   float64\n",
      " 9   pop645213          3112 non-null   float64\n",
      " 10  nonenglish         3112 non-null   float64\n",
      " 11  edu_highschool     3112 non-null   float64\n",
      " 12  edu_batchelors     3112 non-null   float64\n",
      " 13  vet605213          3112 non-null   int64  \n",
      " 14  lfe305213          3112 non-null   float64\n",
      " 15  hsg010214          3112 non-null   int64  \n",
      " 16  hsg445213          3112 non-null   float64\n",
      " 17  hsg096213          3112 non-null   float64\n",
      " 18  hsg495213          3112 non-null   int64  \n",
      " 19  hsd410213          3112 non-null   int64  \n",
      " 20  hsd310213          3112 non-null   float64\n",
      " 21  income             3112 non-null   int64  \n",
      " 22  inc110213          3112 non-null   int64  \n",
      " 23  poverty            3112 non-null   float64\n",
      " 24  bza010213          3112 non-null   int64  \n",
      " 25  bza110213          3112 non-null   int64  \n",
      " 26  bza115213          3112 non-null   float64\n",
      " 27  nes010213          3112 non-null   int64  \n",
      " 28  sbo001207          3112 non-null   int64  \n",
      " 29  sbo315207          3112 non-null   float64\n",
      " 30  sbo115207          3112 non-null   float64\n",
      " 31  sbo215207          3112 non-null   float64\n",
      " 32  sbo515207          3112 non-null   float64\n",
      " 33  sbo415207          3112 non-null   float64\n",
      " 34  sbo015207          3112 non-null   float64\n",
      " 35  man450207          3112 non-null   int64  \n",
      " 36  wtn220207          3112 non-null   int64  \n",
      " 37  rtn130207          3112 non-null   int64  \n",
      " 38  rtn131207          3112 non-null   int64  \n",
      " 39  afn120207          3112 non-null   int64  \n",
      " 40  bps030214          3112 non-null   int64  \n",
      " 41  lnd110210          3112 non-null   float64\n",
      " 42  density            3112 non-null   float64\n",
      "dtypes: float64(24), int64(19)\n",
      "memory usage: 1.0 MB\n",
      "None\n",
      "\n",
      "\n",
      "Any NaN Values in Dataset?\n",
      "False\n",
      "\n",
      "\n",
      "               fips       winner  population_change     pop010210  \\\n",
      "count   3112.000000  3112.000000        3112.000000  3.112000e+03   \n",
      "mean   30651.700514     0.156812           0.450193  9.898104e+04   \n",
      "std    14984.654885     0.363682           4.195582  3.143192e+05   \n",
      "min     1001.000000     0.000000         -17.000000  8.200000e+01   \n",
      "25%    19038.500000     0.000000          -2.000000  1.130950e+04   \n",
      "50%    29208.000000     0.000000          -0.200000  2.605050e+04   \n",
      "75%    46005.500000     0.000000           2.200000  6.708050e+04   \n",
      "max    56045.000000     1.000000          72.900000  9.818605e+06   \n",
      "\n",
      "         age135214    age295214    age65plus    sex255214    pop715213  \\\n",
      "count  3112.000000  3112.000000  3112.000000  3112.000000  3112.000000   \n",
      "mean      5.886954    22.537596    17.640199    49.955752    86.428663   \n",
      "std       1.183065     3.333600     4.387073     2.205303     4.393120   \n",
      "min       1.500000     7.400000     4.100000    30.100000    50.800000   \n",
      "25%       5.200000    20.500000    14.800000    49.500000    84.100000   \n",
      "50%       5.800000    22.400000    17.300000    50.400000    86.900000   \n",
      "75%       6.500000    24.200000    19.925000    51.100000    89.400000   \n",
      "max      13.300000    40.500000    52.900000    56.800000    99.800000   \n",
      "\n",
      "         pop645213  ...    sbo415207    sbo015207     man450207     wtn220207  \\\n",
      "count  3112.000000  ...  3112.000000  3112.000000  3.112000e+03  3.112000e+03   \n",
      "mean      4.492738  ...     1.702506    17.985668  1.433394e+06  1.221736e+06   \n",
      "std       5.520896  ...     6.253284    12.842991  5.732086e+06  7.332659e+06   \n",
      "min       0.000000  ...     0.000000     0.000000  0.000000e+00  0.000000e+00   \n",
      "25%       1.200000  ...     0.000000     0.000000  0.000000e+00  0.000000e+00   \n",
      "50%       2.500000  ...     0.000000    23.200000  0.000000e+00  4.605350e+04   \n",
      "75%       5.525000  ...     0.000000    27.800000  9.195955e+05  2.521668e+05   \n",
      "max      51.300000  ...    78.000000    56.200000  1.692751e+08  2.054788e+08   \n",
      "\n",
      "          rtn130207     rtn131207     afn120207     bps030214     lnd110210  \\\n",
      "count  3.112000e+03   3112.000000  3.112000e+03   3112.000000   3112.000000   \n",
      "mean   1.254781e+06  10247.349293  1.942344e+05    335.566195    951.557584   \n",
      "std    4.155059e+06   5424.049890  8.889694e+05   1303.162468   1303.291942   \n",
      "min    0.000000e+00      0.000000  0.000000e+00      0.000000      2.000000   \n",
      "25%    7.797400e+04   6866.500000  6.093250e+03      5.000000    430.122500   \n",
      "50%    2.518040e+05   9734.500000  2.536600e+04     32.000000    611.010000   \n",
      "75%    7.799945e+05  12937.750000  9.408875e+04    149.000000    914.625000   \n",
      "max    1.191118e+08  80800.000000  2.485784e+07  40060.000000  20056.940000   \n",
      "\n",
      "            density  \n",
      "count   3112.000000  \n",
      "mean     261.540424  \n",
      "std     1732.510014  \n",
      "min        0.100000  \n",
      "25%       17.675000  \n",
      "50%       45.700000  \n",
      "75%      115.100000  \n",
      "max    69467.500000  \n",
      "\n",
      "[8 rows x 43 columns]\n",
      "\n",
      "\n"
     ]
    }
   ],
   "source": [
    "#finding the current working directory\n",
    "cwd = os.getcwd()\n",
    "print(cwd)\n",
    "\n",
    "\n",
    "file  = pd.read_csv(r'C:\\Users\\Owner\\Desktop\\Winpython 3.10\\WPy64-31050\\notebooks\\Machine Learning\\TensorFlow 2.0\\2016 Aggregated Data.csv')\n",
    "\n",
    "\n",
    "df = pd.DataFrame(file)\n",
    "\n",
    "#print(df['fips'])\n",
    "\n",
    "print(df.head())\n",
    "print('\\n')\n",
    "\n",
    "print('Column Names:\\n {}\\n'.format(list(df)))\n",
    "print('Info: {}\\n'.format(df.info()))\n",
    "\n",
    "print(list(df))\n",
    "print('\\n')\n",
    "\n",
    "\n",
    "print(df.info())\n",
    "print('\\n')\n",
    "\n",
    "\n",
    "# Check is there are any Nan in data\n",
    "print(\"Any NaN Values in Dataset?\")\n",
    "print(np.any(np.isnan(df)))\n",
    "\n",
    "print('\\n')\n",
    "print(df.describe())\n",
    "print('\\n')\n",
    "\n"
   ]
  },
  {
   "cell_type": "code",
   "execution_count": 104,
   "id": "9f83f305",
   "metadata": {},
   "outputs": [
    {
     "name": "stdout",
     "output_type": "stream",
     "text": [
      "   column_name                                        description\n",
      "0    PST045214                          Population, 2014 estimate\n",
      "1    PST040210          Population, 2010 (April 1) estimates base\n",
      "2    PST120214  Population, percent change - April 1, 2010 to ...\n",
      "3    POP010210                                   Population, 2010\n",
      "4    AGE135214               Persons under 5 years, percent, 2014\n",
      "5    AGE295214              Persons under 18 years, percent, 2014\n",
      "6    AGE775214           Persons 65 years and over, percent, 2014\n",
      "7    SEX255214                      Female persons, percent, 2014\n",
      "8    POP715213  Living in same house 1 year & over, percent, 2...\n",
      "9    POP645213           Foreign born persons, percent, 2009-2013\n",
      "10   POP815213  Language other than English spoken at home, pc...\n",
      "11   EDU635213  High school graduate or higher, percent of per...\n",
      "12   EDU685213  Bachelor's degree or higher, percent of person...\n",
      "13   VET605213                                Veterans, 2009-2013\n",
      "14   LFE305213  Mean travel time to work (minutes), workers ag...\n",
      "15   HSG010214                                Housing units, 2014\n",
      "16   HSG445213                      Homeownership rate, 2009-2013\n",
      "17   HSG096213  Housing units in multi-unit structures, percen...\n",
      "18   HSG495213  Median value of owner-occupied housing units, ...\n",
      "19   HSD410213                              Households, 2009-2013\n",
      "20   HSD310213                   Persons per household, 2009-2013\n",
      "21   INC910213  Per capita money income in past 12 months (201...\n",
      "22   INC110213                 Median household income, 2009-2013\n",
      "23   PVY020213    Persons below poverty level, percent, 2009-2013\n",
      "24   BZA010213               Private nonfarm establishments, 2013\n",
      "25   BZA110213                  Private nonfarm employment,  2013\n",
      "26   BZA115213  Private nonfarm employment, percent change, 20...\n",
      "27   NES010213                   Nonemployer establishments, 2013\n",
      "28   SBO001207                        Total number of firms, 2007\n",
      "29   SBO315207                   Black-owned firms, percent, 2007\n",
      "30   SBO115207  American Indian- and Alaska Native-owned firms...\n",
      "31   SBO215207                   Asian-owned firms, percent, 2007\n",
      "32   SBO515207  Native Hawaiian- and Other Pacific Islander-ow...\n",
      "33   SBO415207                Hispanic-owned firms, percent, 2007\n",
      "34   SBO015207                   Women-owned firms, percent, 2007\n",
      "35   MAN450207             Manufacturers shipments, 2007 ($1,000)\n",
      "36   WTN220207           Merchant wholesaler sales, 2007 ($1,000)\n",
      "37   RTN130207                        Retail sales, 2007 ($1,000)\n",
      "38   RTN131207                      Retail sales per capita, 2007\n",
      "39   AFN120207  Accommodation and food services sales, 2007 ($...\n",
      "40   BPS030214                             Building permits, 2014\n",
      "41   LND110210                    Land area in square miles, 2010\n",
      "42   POP060210                   Population per square mile, 2010\n"
     ]
    }
   ],
   "source": [
    "# Dictionary conversion for Columns\n",
    "\n",
    "file2  = pd.read_csv(r'C:\\Users\\Owner\\Desktop\\Winpython 3.10\\WPy64-31050\\notebooks\\Machine Learning\\TensorFlow 2.0\\Dictionary for Columns - Election 2016.csv')\n",
    "\n",
    "index_columns = pd.DataFrame(file2)\n",
    "\n",
    "print(index_columns.head(44))\n"
   ]
  },
  {
   "cell_type": "code",
   "execution_count": 105,
   "id": "9b73a126",
   "metadata": {},
   "outputs": [
    {
     "data": {
      "text/plain": [
       "array([[<AxesSubplot:title={'center':'winner'}>]], dtype=object)"
      ]
     },
     "execution_count": 105,
     "metadata": {},
     "output_type": "execute_result"
    },
    {
     "data": {
      "image/png": "[encoded data removed]",
      "text/plain": [
       "<Figure size 432x288 with 1 Axes>"
      ]
     },
     "metadata": {
      "needs_background": "light"
     },
     "output_type": "display_data"
    }
   ],
   "source": [
    "\n",
    "# We see that the dataset is imbalanced, there are many more entries for \"Republican\" than \"Democrat\". This will influence\n",
    "# how the results are analyzed at the end of this project.\n",
    "df.hist(column='winner', bins=2, grid=False, rwidth=.9, color='purple')\n"
   ]
  },
  {
   "cell_type": "code",
   "execution_count": 106,
   "id": "8852b4f1",
   "metadata": {
    "scrolled": true
   },
   "outputs": [
    {
     "name": "stdout",
     "output_type": "stream",
     "text": [
      "0    0\n",
      "1    0\n",
      "2    0\n",
      "3    0\n",
      "4    0\n",
      "Name: winner, dtype: int64\n",
      "0    0\n",
      "1    0\n",
      "2    0\n",
      "3    0\n",
      "4    0\n",
      "5    1\n",
      "6    0\n",
      "Name: winner, dtype: int64\n",
      "\n",
      "\n",
      "<class 'pandas.core.frame.DataFrame'>\n",
      "Int64Index: 2334 entries, 37 to 2732\n",
      "Data columns (total 42 columns):\n",
      " #   Column             Non-Null Count  Dtype  \n",
      "---  ------             --------------  -----  \n",
      " 0   fips               2334 non-null   int64  \n",
      " 1   population_change  2334 non-null   float64\n",
      " 2   pop010210          2334 non-null   int64  \n",
      " 3   age135214          2334 non-null   float64\n",
      " 4   age295214          2334 non-null   float64\n",
      " 5   age65plus          2334 non-null   float64\n",
      " 6   sex255214          2334 non-null   float64\n",
      " 7   pop715213          2334 non-null   float64\n",
      " 8   pop645213          2334 non-null   float64\n",
      " 9   nonenglish         2334 non-null   float64\n",
      " 10  edu_highschool     2334 non-null   float64\n",
      " 11  edu_batchelors     2334 non-null   float64\n",
      " 12  vet605213          2334 non-null   int64  \n",
      " 13  lfe305213          2334 non-null   float64\n",
      " 14  hsg010214          2334 non-null   int64  \n",
      " 15  hsg445213          2334 non-null   float64\n",
      " 16  hsg096213          2334 non-null   float64\n",
      " 17  hsg495213          2334 non-null   int64  \n",
      " 18  hsd410213          2334 non-null   int64  \n",
      " 19  hsd310213          2334 non-null   float64\n",
      " 20  income             2334 non-null   int64  \n",
      " 21  inc110213          2334 non-null   int64  \n",
      " 22  poverty            2334 non-null   float64\n",
      " 23  bza010213          2334 non-null   int64  \n",
      " 24  bza110213          2334 non-null   int64  \n",
      " 25  bza115213          2334 non-null   float64\n",
      " 26  nes010213          2334 non-null   int64  \n",
      " 27  sbo001207          2334 non-null   int64  \n",
      " 28  sbo315207          2334 non-null   float64\n",
      " 29  sbo115207          2334 non-null   float64\n",
      " 30  sbo215207          2334 non-null   float64\n",
      " 31  sbo515207          2334 non-null   float64\n",
      " 32  sbo415207          2334 non-null   float64\n",
      " 33  sbo015207          2334 non-null   float64\n",
      " 34  man450207          2334 non-null   int64  \n",
      " 35  wtn220207          2334 non-null   int64  \n",
      " 36  rtn130207          2334 non-null   int64  \n",
      " 37  rtn131207          2334 non-null   int64  \n",
      " 38  afn120207          2334 non-null   int64  \n",
      " 39  bps030214          2334 non-null   int64  \n",
      " 40  lnd110210          2334 non-null   float64\n",
      " 41  density            2334 non-null   float64\n",
      "dtypes: float64(24), int64(18)\n",
      "memory usage: 784.1 KB\n",
      "None\n",
      "<class 'pandas.core.frame.DataFrame'>\n",
      "Int64Index: 778 entries, 1254 to 1197\n",
      "Data columns (total 42 columns):\n",
      " #   Column             Non-Null Count  Dtype  \n",
      "---  ------             --------------  -----  \n",
      " 0   fips               778 non-null    int64  \n",
      " 1   population_change  778 non-null    float64\n",
      " 2   pop010210          778 non-null    int64  \n",
      " 3   age135214          778 non-null    float64\n",
      " 4   age295214          778 non-null    float64\n",
      " 5   age65plus          778 non-null    float64\n",
      " 6   sex255214          778 non-null    float64\n",
      " 7   pop715213          778 non-null    float64\n",
      " 8   pop645213          778 non-null    float64\n",
      " 9   nonenglish         778 non-null    float64\n",
      " 10  edu_highschool     778 non-null    float64\n",
      " 11  edu_batchelors     778 non-null    float64\n",
      " 12  vet605213          778 non-null    int64  \n",
      " 13  lfe305213          778 non-null    float64\n",
      " 14  hsg010214          778 non-null    int64  \n",
      " 15  hsg445213          778 non-null    float64\n",
      " 16  hsg096213          778 non-null    float64\n",
      " 17  hsg495213          778 non-null    int64  \n",
      " 18  hsd410213          778 non-null    int64  \n",
      " 19  hsd310213          778 non-null    float64\n",
      " 20  income             778 non-null    int64  \n",
      " 21  inc110213          778 non-null    int64  \n",
      " 22  poverty            778 non-null    float64\n",
      " 23  bza010213          778 non-null    int64  \n",
      " 24  bza110213          778 non-null    int64  \n",
      " 25  bza115213          778 non-null    float64\n",
      " 26  nes010213          778 non-null    int64  \n",
      " 27  sbo001207          778 non-null    int64  \n",
      " 28  sbo315207          778 non-null    float64\n",
      " 29  sbo115207          778 non-null    float64\n",
      " 30  sbo215207          778 non-null    float64\n",
      " 31  sbo515207          778 non-null    float64\n",
      " 32  sbo415207          778 non-null    float64\n",
      " 33  sbo015207          778 non-null    float64\n",
      " 34  man450207          778 non-null    int64  \n",
      " 35  wtn220207          778 non-null    int64  \n",
      " 36  rtn130207          778 non-null    int64  \n",
      " 37  rtn131207          778 non-null    int64  \n",
      " 38  afn120207          778 non-null    int64  \n",
      " 39  bps030214          778 non-null    int64  \n",
      " 40  lnd110210          778 non-null    float64\n",
      " 41  density            778 non-null    float64\n",
      "dtypes: float64(24), int64(18)\n",
      "memory usage: 261.4 KB\n",
      "None\n"
     ]
    }
   ],
   "source": [
    "#### Splitting the Dataset to training and test sets ####\n",
    "\n",
    "print(df['winner'].head())\n",
    "\n",
    "# Separating the target variable: [0 = Republican], [1 = Democrat]\n",
    "y = df['winner']\n",
    "\n",
    "#Checking to see output looks correct and only 'winner' column is isolated \n",
    "print(y.head(7))\n",
    "\n",
    "# Removing 'winner' column from dataset\n",
    "df.drop('winner',axis=1, inplace=True) \n",
    "\n",
    "df = df.reset_index()\n",
    "del df['index']\n",
    "\n",
    "\n",
    "# Splitting the data into train and test set.\n",
    "from sklearn.model_selection import train_test_split\n",
    "X_train, X_test, y_train, y_test = train_test_split(df, y, random_state = 0)\n",
    "\n",
    "# Confirming that the target ( variable 'y' /'winner') is removed from train and test splits in order to not influence result\n",
    "# by giving the model the target output which would result in a 100% accuracy for all models.\n",
    "print('\\n')\n",
    "print(X_train.info())\n",
    "print(X_test.info())\n"
   ]
  },
  {
   "cell_type": "code",
   "execution_count": 107,
   "id": "4472c37d",
   "metadata": {},
   "outputs": [],
   "source": [
    "########## PIPELINES ###########\n",
    "\n",
    "from sklearn.preprocessing import StandardScaler\n",
    "from sklearn.pipeline import make_pipeline\n",
    "from sklearn.pipeline import Pipeline\n",
    "from sklearn.ensemble import RandomForestClassifier\n",
    "from sklearn.model_selection import GridSearchCV\n",
    "from sklearn.metrics import confusion_matrix\n",
    "from sklearn.metrics import classification_report\n",
    "from sklearn.neighbors import KNeighborsClassifier\n",
    "\n",
    "\n",
    "\n",
    "#Building the Pipeline\n",
    "\n",
    "# The pipelines setting the seed/random state for a random number generator, to get the same results in every run.\n",
    "pipe_knn = Pipeline([('preprocessing', StandardScaler()),('classifier', KNeighborsClassifier())])\n",
    "pipe_rf = Pipeline([('classifier', RandomForestClassifier(random_state=42))])\n",
    "pipe_xgboost = Pipeline([('classifier', XGBClassifier(objective= 'binary:logistic',seed=42))])\n",
    "\n",
    "\n",
    "\n",
    "### Parameter Grids for the machine learning classifiers to be used (Neural Network in Tensorflow addressed seperately below)\n",
    "\n",
    "# KNN - using KNN as a simple model to see how well a simple algorithm will generalize to new data.\n",
    "param_grid_knn = [{\n",
    "    'classifier': [KNeighborsClassifier()], \n",
    "                \n",
    "    'preprocessing': [StandardScaler(), None],\n",
    "                \n",
    "    'classifier__n_neighbors': [1, 3, 5 ]}]\n",
    "\n",
    "\n",
    "# Random Forest Classifier:\n",
    "param_grid_rf = [{\n",
    "    'classifier': [RandomForestClassifier(n_jobs =3)],\n",
    "               \n",
    "    'classifier__max_features':[3,5,7],\n",
    "               \n",
    "    'classifier__n_estimators': [50, 100, 200],\n",
    "               \n",
    "    'classifier__max_depth': [3,5,7,9]}]\n",
    "\n",
    "\n",
    "# XGBoost Classifier - Gradient boosted decision tree\n",
    "param_grid_xgboost = [{\n",
    "    'classifier__max_depth': range (2, 10, 1),\n",
    "    'classifier__n_estimators': range(60, 220, 40),\n",
    "    'classifier__learning_rate': [0.1, 0.01, 0.05]\n",
    "}]\n",
    "\n",
    "\n",
    "# Grid Search with a Cross-Validation fold of 5 \n",
    "gs_knn = GridSearchCV(pipe_knn, param_grid_knn, cv=5)\n",
    "\n",
    "gs_rf = GridSearchCV(pipe_rf, param_grid_rf, cv=5)\n",
    "\n",
    "gs_xgboost = GridSearchCV(pipe_xgboost, param_grid_xgboost, cv=5)\n"
   ]
  },
  {
   "cell_type": "code",
   "execution_count": 108,
   "id": "87319e80",
   "metadata": {},
   "outputs": [
    {
     "name": "stdout",
     "output_type": "stream",
     "text": [
      "\n",
      "Best Parameters: {'classifier': KNeighborsClassifier(), 'classifier__n_neighbors': 5, 'preprocessing': StandardScaler()}\n",
      "\n",
      "Training set Score: 0.9357326478149101\n",
      "Best Accuracy: 0.9117405409379566\n",
      "Best Scores: 0.903598971722365\n",
      "\n",
      "Confusion Matrix:\n",
      "[[642   9]\n",
      " [ 66  61]]\n",
      "\n",
      "              precision    recall  f1-score   support\n",
      "\n",
      "  Republican       0.91      0.99      0.94       651\n",
      "    Democrat       0.87      0.48      0.62       127\n",
      "\n",
      "    accuracy                           0.90       778\n",
      "   macro avg       0.89      0.73      0.78       778\n",
      "weighted avg       0.90      0.90      0.89       778\n",
      "\n",
      "\n",
      "\n",
      "\n",
      "\n",
      "\n",
      "\n",
      "Best Parameters: {'classifier': RandomForestClassifier(max_depth=9, max_features=7, n_jobs=3), 'classifier__max_depth': 9, 'classifier__max_features': 7, 'classifier__n_estimators': 100}\n",
      "\n",
      "Training set Score: 0.9730077120822622\n",
      "Best Accuracy: 0.9228827967760612\n",
      "Best Scores: 0.916452442159383\n",
      "\n",
      "Confusion Matrix:\n",
      "[[639  12]\n",
      " [ 53  74]]\n",
      "\n",
      "              precision    recall  f1-score   support\n",
      "\n",
      "  Republican       0.92      0.98      0.95       651\n",
      "    Democrat       0.86      0.58      0.69       127\n",
      "\n",
      "    accuracy                           0.92       778\n",
      "   macro avg       0.89      0.78      0.82       778\n",
      "weighted avg       0.91      0.92      0.91       778\n",
      "\n",
      "\n",
      "\n",
      "\n",
      "\n",
      "\n",
      "\n",
      "Best Parameters: {'classifier__learning_rate': 0.05, 'classifier__max_depth': 4, 'classifier__n_estimators': 180}\n",
      "\n",
      "Training set Score: 0.9820051413881749\n",
      "Best Accuracy: 0.9327384179908282\n",
      "Best Scores: 0.9125964010282777\n",
      "\n",
      "Confusion Matrix:\n",
      "[[635  16]\n",
      " [ 52  75]]\n",
      "\n",
      "              precision    recall  f1-score   support\n",
      "\n",
      "  Republican       0.92      0.98      0.95       651\n",
      "    Democrat       0.82      0.59      0.69       127\n",
      "\n",
      "    accuracy                           0.91       778\n",
      "   macro avg       0.87      0.78      0.82       778\n",
      "weighted avg       0.91      0.91      0.91       778\n",
      "\n",
      "\n",
      "\n",
      "\n",
      "\n",
      "\n"
     ]
    }
   ],
   "source": [
    "\n",
    "#List of Grid searches for easier iteration\n",
    "grids = [gs_knn, gs_rf, gs_xgboost]\n",
    "\n",
    "\n",
    "for gs in grids:\n",
    "    # Fit grid search \n",
    "    gs.fit(X_train, y_train)\n",
    "    # Best Parameters:\n",
    "    print('\\nBest Parameters: %s\\n' % gs.best_params_)\n",
    "    # Training Set Score:\n",
    "    print(\"Training set Score: {}\".format(gs.score(X_train, y_train)))\n",
    "    # Best Score:\n",
    "    print('Best Accuracy: %s' % gs.best_score_)\n",
    "    #Predictions:\n",
    "    y_pred = gs.predict(X_test)\n",
    "    # Best Scores:\n",
    "    print('Best Scores: %s\\n' % accuracy_score(y_test,y_pred))\n",
    "    \n",
    "    # Confusion Matrix for each estimator:\n",
    "    confusion = confusion_matrix(y_test, y_pred)\n",
    "    print('Confusion Matrix:\\n{}\\n'.format(confusion))\n",
    "    \n",
    "    # Classification Reports:\n",
    "    print(classification_report(y_test,y_pred, target_names =['Republican','Democrat'] ))\n",
    "    print('\\n'*4)\n"
   ]
  },
  {
   "cell_type": "code",
   "execution_count": 109,
   "id": "bd2a441b",
   "metadata": {},
   "outputs": [],
   "source": [
    "\n",
    "from tensorflow.keras import callbacks\n",
    "\n",
    "filepath=str(os.getcwd()+\"/US Election Outcome model.h5f\")\n",
    "\n",
    "# ReduceLROnPlateau - will reduce the learning rate by a factor of 0.2 when the validation loss doesn't decrease after 2 epochs.\n",
    "#                     cooldown means that the model will run two epochs at the reduced learning rate before going back to \n",
    "#                     original learning rate.\n",
    "# Model Checkpoint - saves the best model\n",
    "callbacks = [tf.keras.callbacks.ReduceLROnPlateau(monitor='val_loss',\n",
    "                                                     factor = 0.2,\n",
    "                                                     patience = 2,\n",
    "                                                      cooldown=2),\n",
    "                    tf.keras.callbacks.ModelCheckpoint(filepath=filepath,\n",
    "                                                     monitor='val_accuracy',\n",
    "                                                    verbose=1,\n",
    "                                                     save_best_only=True,\n",
    "                                                    mode='max')]\n"
   ]
  },
  {
   "cell_type": "code",
   "execution_count": 110,
   "id": "b8fd0d7d",
   "metadata": {},
   "outputs": [
    {
     "name": "stdout",
     "output_type": "stream",
     "text": [
      "Epoch 1/20\n",
      " 1/19 [>.............................] - ETA: 9s - loss: 0.7200 - accuracy: 0.1406\n",
      "Epoch 1: val_accuracy improved from -inf to 0.83933, saving model to C:\\Users\\Owner\\Desktop\\Winpython 3.10\\WPy64-31050\\notebooks\\Machine Learning\\TensorFlow 2.0\\US Election Outcome model.h5f\n"
     ]
    },
    {
     "name": "stderr",
     "output_type": "stream",
     "text": [
      "WARNING:absl:Found untraced functions such as _update_step_xla while saving (showing 1 of 1). These functions will not be directly callable after loading.\n"
     ]
    },
    {
     "name": "stdout",
     "output_type": "stream",
     "text": [
      "INFO:tensorflow:Assets written to: C:\\Users\\Owner\\Desktop\\Winpython 3.10\\WPy64-31050\\notebooks\\Machine Learning\\TensorFlow 2.0\\US Election Outcome model.h5f\\assets\n"
     ]
    },
    {
     "name": "stderr",
     "output_type": "stream",
     "text": [
      "INFO:tensorflow:Assets written to: C:\\Users\\Owner\\Desktop\\Winpython 3.10\\WPy64-31050\\notebooks\\Machine Learning\\TensorFlow 2.0\\US Election Outcome model.h5f\\assets\n"
     ]
    },
    {
     "name": "stdout",
     "output_type": "stream",
     "text": [
      "19/19 [==============================] - 1s 43ms/step - loss: 0.5140 - accuracy: 0.8072 - val_loss: 0.4183 - val_accuracy: 0.8393 - lr: 0.0010\n",
      "Epoch 2/20\n",
      " 1/19 [>.............................] - ETA: 0s - loss: 0.3952 - accuracy: 0.8516\n",
      "Epoch 2: val_accuracy improved from 0.83933 to 0.85733, saving model to C:\\Users\\Owner\\Desktop\\Winpython 3.10\\WPy64-31050\\notebooks\\Machine Learning\\TensorFlow 2.0\\US Election Outcome model.h5f\n"
     ]
    },
    {
     "name": "stderr",
     "output_type": "stream",
     "text": [
      "WARNING:absl:Found untraced functions such as _update_step_xla while saving (showing 1 of 1). These functions will not be directly callable after loading.\n"
     ]
    },
    {
     "name": "stdout",
     "output_type": "stream",
     "text": [
      "INFO:tensorflow:Assets written to: C:\\Users\\Owner\\Desktop\\Winpython 3.10\\WPy64-31050\\notebooks\\Machine Learning\\TensorFlow 2.0\\US Election Outcome model.h5f\\assets\n"
     ]
    },
    {
     "name": "stderr",
     "output_type": "stream",
     "text": [
      "INFO:tensorflow:Assets written to: C:\\Users\\Owner\\Desktop\\Winpython 3.10\\WPy64-31050\\notebooks\\Machine Learning\\TensorFlow 2.0\\US Election Outcome model.h5f\\assets\n"
     ]
    },
    {
     "name": "stdout",
     "output_type": "stream",
     "text": [
      "19/19 [==============================] - 1s 34ms/step - loss: 0.3688 - accuracy: 0.8509 - val_loss: 0.3474 - val_accuracy: 0.8573 - lr: 0.0010\n",
      "Epoch 3/20\n",
      " 1/19 [>.............................] - ETA: 0s - loss: 0.2688 - accuracy: 0.8906\n",
      "Epoch 3: val_accuracy improved from 0.85733 to 0.88817, saving model to C:\\Users\\Owner\\Desktop\\Winpython 3.10\\WPy64-31050\\notebooks\\Machine Learning\\TensorFlow 2.0\\US Election Outcome model.h5f\n"
     ]
    },
    {
     "name": "stderr",
     "output_type": "stream",
     "text": [
      "WARNING:absl:Found untraced functions such as _update_step_xla while saving (showing 1 of 1). These functions will not be directly callable after loading.\n"
     ]
    },
    {
     "name": "stdout",
     "output_type": "stream",
     "text": [
      "INFO:tensorflow:Assets written to: C:\\Users\\Owner\\Desktop\\Winpython 3.10\\WPy64-31050\\notebooks\\Machine Learning\\TensorFlow 2.0\\US Election Outcome model.h5f\\assets\n"
     ]
    },
    {
     "name": "stderr",
     "output_type": "stream",
     "text": [
      "INFO:tensorflow:Assets written to: C:\\Users\\Owner\\Desktop\\Winpython 3.10\\WPy64-31050\\notebooks\\Machine Learning\\TensorFlow 2.0\\US Election Outcome model.h5f\\assets\n"
     ]
    },
    {
     "name": "stdout",
     "output_type": "stream",
     "text": [
      "19/19 [==============================] - 1s 44ms/step - loss: 0.3134 - accuracy: 0.8775 - val_loss: 0.3144 - val_accuracy: 0.8882 - lr: 0.0010\n",
      "Epoch 4/20\n",
      " 1/19 [>.............................] - ETA: 0s - loss: 0.2992 - accuracy: 0.8984\n",
      "Epoch 4: val_accuracy improved from 0.88817 to 0.89075, saving model to C:\\Users\\Owner\\Desktop\\Winpython 3.10\\WPy64-31050\\notebooks\\Machine Learning\\TensorFlow 2.0\\US Election Outcome model.h5f\n"
     ]
    },
    {
     "name": "stderr",
     "output_type": "stream",
     "text": [
      "WARNING:absl:Found untraced functions such as _update_step_xla while saving (showing 1 of 1). These functions will not be directly callable after loading.\n"
     ]
    },
    {
     "name": "stdout",
     "output_type": "stream",
     "text": [
      "INFO:tensorflow:Assets written to: C:\\Users\\Owner\\Desktop\\Winpython 3.10\\WPy64-31050\\notebooks\\Machine Learning\\TensorFlow 2.0\\US Election Outcome model.h5f\\assets\n"
     ]
    },
    {
     "name": "stderr",
     "output_type": "stream",
     "text": [
      "INFO:tensorflow:Assets written to: C:\\Users\\Owner\\Desktop\\Winpython 3.10\\WPy64-31050\\notebooks\\Machine Learning\\TensorFlow 2.0\\US Election Outcome model.h5f\\assets\n"
     ]
    },
    {
     "name": "stdout",
     "output_type": "stream",
     "text": [
      "19/19 [==============================] - 1s 36ms/step - loss: 0.2805 - accuracy: 0.8907 - val_loss: 0.2974 - val_accuracy: 0.8907 - lr: 0.0010\n",
      "Epoch 5/20\n",
      " 1/19 [>.............................] - ETA: 0s - loss: 0.3037 - accuracy: 0.8828\n",
      "Epoch 5: val_accuracy improved from 0.89075 to 0.89589, saving model to C:\\Users\\Owner\\Desktop\\Winpython 3.10\\WPy64-31050\\notebooks\\Machine Learning\\TensorFlow 2.0\\US Election Outcome model.h5f\n"
     ]
    },
    {
     "name": "stderr",
     "output_type": "stream",
     "text": [
      "WARNING:absl:Found untraced functions such as _update_step_xla while saving (showing 1 of 1). These functions will not be directly callable after loading.\n"
     ]
    },
    {
     "name": "stdout",
     "output_type": "stream",
     "text": [
      "INFO:tensorflow:Assets written to: C:\\Users\\Owner\\Desktop\\Winpython 3.10\\WPy64-31050\\notebooks\\Machine Learning\\TensorFlow 2.0\\US Election Outcome model.h5f\\assets\n"
     ]
    },
    {
     "name": "stderr",
     "output_type": "stream",
     "text": [
      "INFO:tensorflow:Assets written to: C:\\Users\\Owner\\Desktop\\Winpython 3.10\\WPy64-31050\\notebooks\\Machine Learning\\TensorFlow 2.0\\US Election Outcome model.h5f\\assets\n"
     ]
    },
    {
     "name": "stdout",
     "output_type": "stream",
     "text": [
      "19/19 [==============================] - 1s 36ms/step - loss: 0.2645 - accuracy: 0.9010 - val_loss: 0.2761 - val_accuracy: 0.8959 - lr: 0.0010\n",
      "Epoch 6/20\n",
      " 1/19 [>.............................] - ETA: 0s - loss: 0.3294 - accuracy: 0.8984\n",
      "Epoch 6: val_accuracy did not improve from 0.89589\n",
      "19/19 [==============================] - 0s 4ms/step - loss: 0.2535 - accuracy: 0.9027 - val_loss: 0.3197 - val_accuracy: 0.8779 - lr: 0.0010\n",
      "Epoch 7/20\n",
      " 1/19 [>.............................] - ETA: 0s - loss: 0.3159 - accuracy: 0.8828\n",
      "Epoch 7: val_accuracy improved from 0.89589 to 0.89974, saving model to C:\\Users\\Owner\\Desktop\\Winpython 3.10\\WPy64-31050\\notebooks\\Machine Learning\\TensorFlow 2.0\\US Election Outcome model.h5f\n"
     ]
    },
    {
     "name": "stderr",
     "output_type": "stream",
     "text": [
      "WARNING:absl:Found untraced functions such as _update_step_xla while saving (showing 1 of 1). These functions will not be directly callable after loading.\n"
     ]
    },
    {
     "name": "stdout",
     "output_type": "stream",
     "text": [
      "INFO:tensorflow:Assets written to: C:\\Users\\Owner\\Desktop\\Winpython 3.10\\WPy64-31050\\notebooks\\Machine Learning\\TensorFlow 2.0\\US Election Outcome model.h5f\\assets\n"
     ]
    },
    {
     "name": "stderr",
     "output_type": "stream",
     "text": [
      "INFO:tensorflow:Assets written to: C:\\Users\\Owner\\Desktop\\Winpython 3.10\\WPy64-31050\\notebooks\\Machine Learning\\TensorFlow 2.0\\US Election Outcome model.h5f\\assets\n"
     ]
    },
    {
     "name": "stdout",
     "output_type": "stream",
     "text": [
      "19/19 [==============================] - 1s 37ms/step - loss: 0.2443 - accuracy: 0.9057 - val_loss: 0.2652 - val_accuracy: 0.8997 - lr: 0.0010\n",
      "Epoch 8/20\n",
      " 1/19 [>.............................] - ETA: 0s - loss: 0.3044 - accuracy: 0.8672\n",
      "Epoch 8: val_accuracy improved from 0.89974 to 0.90360, saving model to C:\\Users\\Owner\\Desktop\\Winpython 3.10\\WPy64-31050\\notebooks\\Machine Learning\\TensorFlow 2.0\\US Election Outcome model.h5f\n"
     ]
    },
    {
     "name": "stderr",
     "output_type": "stream",
     "text": [
      "WARNING:absl:Found untraced functions such as _update_step_xla while saving (showing 1 of 1). These functions will not be directly callable after loading.\n"
     ]
    },
    {
     "name": "stdout",
     "output_type": "stream",
     "text": [
      "INFO:tensorflow:Assets written to: C:\\Users\\Owner\\Desktop\\Winpython 3.10\\WPy64-31050\\notebooks\\Machine Learning\\TensorFlow 2.0\\US Election Outcome model.h5f\\assets\n"
     ]
    },
    {
     "name": "stderr",
     "output_type": "stream",
     "text": [
      "INFO:tensorflow:Assets written to: C:\\Users\\Owner\\Desktop\\Winpython 3.10\\WPy64-31050\\notebooks\\Machine Learning\\TensorFlow 2.0\\US Election Outcome model.h5f\\assets\n"
     ]
    },
    {
     "name": "stdout",
     "output_type": "stream",
     "text": [
      "19/19 [==============================] - 1s 40ms/step - loss: 0.2367 - accuracy: 0.9062 - val_loss: 0.2488 - val_accuracy: 0.9036 - lr: 0.0010\n",
      "Epoch 9/20\n",
      " 1/19 [>.............................] - ETA: 0s - loss: 0.1956 - accuracy: 0.9297\n",
      "Epoch 9: val_accuracy did not improve from 0.90360\n",
      "19/19 [==============================] - 0s 4ms/step - loss: 0.2266 - accuracy: 0.9100 - val_loss: 0.2586 - val_accuracy: 0.9023 - lr: 0.0010\n",
      "Epoch 10/20\n",
      " 1/19 [>.............................] - ETA: 0s - loss: 0.2471 - accuracy: 0.8828\n",
      "Epoch 10: val_accuracy improved from 0.90360 to 0.90874, saving model to C:\\Users\\Owner\\Desktop\\Winpython 3.10\\WPy64-31050\\notebooks\\Machine Learning\\TensorFlow 2.0\\US Election Outcome model.h5f\n"
     ]
    },
    {
     "name": "stderr",
     "output_type": "stream",
     "text": [
      "WARNING:absl:Found untraced functions such as _update_step_xla while saving (showing 1 of 1). These functions will not be directly callable after loading.\n"
     ]
    },
    {
     "name": "stdout",
     "output_type": "stream",
     "text": [
      "INFO:tensorflow:Assets written to: C:\\Users\\Owner\\Desktop\\Winpython 3.10\\WPy64-31050\\notebooks\\Machine Learning\\TensorFlow 2.0\\US Election Outcome model.h5f\\assets\n"
     ]
    },
    {
     "name": "stderr",
     "output_type": "stream",
     "text": [
      "INFO:tensorflow:Assets written to: C:\\Users\\Owner\\Desktop\\Winpython 3.10\\WPy64-31050\\notebooks\\Machine Learning\\TensorFlow 2.0\\US Election Outcome model.h5f\\assets\n"
     ]
    },
    {
     "name": "stdout",
     "output_type": "stream",
     "text": [
      "19/19 [==============================] - 1s 49ms/step - loss: 0.2212 - accuracy: 0.9160 - val_loss: 0.2366 - val_accuracy: 0.9087 - lr: 0.0010\n",
      "Epoch 11/20\n",
      " 1/19 [>.............................] - ETA: 0s - loss: 0.2573 - accuracy: 0.8906\n",
      "Epoch 11: val_accuracy improved from 0.90874 to 0.91003, saving model to C:\\Users\\Owner\\Desktop\\Winpython 3.10\\WPy64-31050\\notebooks\\Machine Learning\\TensorFlow 2.0\\US Election Outcome model.h5f\n"
     ]
    },
    {
     "name": "stderr",
     "output_type": "stream",
     "text": [
      "WARNING:absl:Found untraced functions such as _update_step_xla while saving (showing 1 of 1). These functions will not be directly callable after loading.\n"
     ]
    },
    {
     "name": "stdout",
     "output_type": "stream",
     "text": [
      "INFO:tensorflow:Assets written to: C:\\Users\\Owner\\Desktop\\Winpython 3.10\\WPy64-31050\\notebooks\\Machine Learning\\TensorFlow 2.0\\US Election Outcome model.h5f\\assets\n"
     ]
    },
    {
     "name": "stderr",
     "output_type": "stream",
     "text": [
      "INFO:tensorflow:Assets written to: C:\\Users\\Owner\\Desktop\\Winpython 3.10\\WPy64-31050\\notebooks\\Machine Learning\\TensorFlow 2.0\\US Election Outcome model.h5f\\assets\n"
     ]
    },
    {
     "name": "stdout",
     "output_type": "stream",
     "text": [
      "19/19 [==============================] - 1s 34ms/step - loss: 0.2147 - accuracy: 0.9113 - val_loss: 0.2299 - val_accuracy: 0.9100 - lr: 0.0010\n",
      "Epoch 12/20\n",
      " 1/19 [>.............................] - ETA: 0s - loss: 0.1915 - accuracy: 0.9297\n",
      "Epoch 12: val_accuracy did not improve from 0.91003\n",
      "19/19 [==============================] - 0s 3ms/step - loss: 0.2117 - accuracy: 0.9160 - val_loss: 0.3099 - val_accuracy: 0.8805 - lr: 0.0010\n",
      "Epoch 13/20\n",
      " 1/19 [>.............................] - ETA: 0s - loss: 0.2905 - accuracy: 0.8828\n",
      "Epoch 13: val_accuracy did not improve from 0.91003\n",
      "19/19 [==============================] - 0s 3ms/step - loss: 0.2089 - accuracy: 0.9190 - val_loss: 0.2458 - val_accuracy: 0.8972 - lr: 0.0010\n",
      "Epoch 14/20\n",
      " 1/19 [>.............................] - ETA: 0s - loss: 0.1787 - accuracy: 0.9141\n",
      "Epoch 14: val_accuracy improved from 0.91003 to 0.91131, saving model to C:\\Users\\Owner\\Desktop\\Winpython 3.10\\WPy64-31050\\notebooks\\Machine Learning\\TensorFlow 2.0\\US Election Outcome model.h5f\n"
     ]
    },
    {
     "name": "stderr",
     "output_type": "stream",
     "text": [
      "WARNING:absl:Found untraced functions such as _update_step_xla while saving (showing 1 of 1). These functions will not be directly callable after loading.\n"
     ]
    },
    {
     "name": "stdout",
     "output_type": "stream",
     "text": [
      "INFO:tensorflow:Assets written to: C:\\Users\\Owner\\Desktop\\Winpython 3.10\\WPy64-31050\\notebooks\\Machine Learning\\TensorFlow 2.0\\US Election Outcome model.h5f\\assets\n"
     ]
    },
    {
     "name": "stderr",
     "output_type": "stream",
     "text": [
      "INFO:tensorflow:Assets written to: C:\\Users\\Owner\\Desktop\\Winpython 3.10\\WPy64-31050\\notebooks\\Machine Learning\\TensorFlow 2.0\\US Election Outcome model.h5f\\assets\n"
     ]
    },
    {
     "name": "stdout",
     "output_type": "stream",
     "text": [
      "19/19 [==============================] - 1s 35ms/step - loss: 0.1989 - accuracy: 0.9182 - val_loss: 0.2275 - val_accuracy: 0.9113 - lr: 2.0000e-04\n",
      "Epoch 15/20\n",
      " 1/19 [>.............................] - ETA: 0s - loss: 0.2035 - accuracy: 0.9375\n",
      "Epoch 15: val_accuracy improved from 0.91131 to 0.91774, saving model to C:\\Users\\Owner\\Desktop\\Winpython 3.10\\WPy64-31050\\notebooks\\Machine Learning\\TensorFlow 2.0\\US Election Outcome model.h5f\n"
     ]
    },
    {
     "name": "stderr",
     "output_type": "stream",
     "text": [
      "WARNING:absl:Found untraced functions such as _update_step_xla while saving (showing 1 of 1). These functions will not be directly callable after loading.\n"
     ]
    },
    {
     "name": "stdout",
     "output_type": "stream",
     "text": [
      "INFO:tensorflow:Assets written to: C:\\Users\\Owner\\Desktop\\Winpython 3.10\\WPy64-31050\\notebooks\\Machine Learning\\TensorFlow 2.0\\US Election Outcome model.h5f\\assets\n"
     ]
    },
    {
     "name": "stderr",
     "output_type": "stream",
     "text": [
      "INFO:tensorflow:Assets written to: C:\\Users\\Owner\\Desktop\\Winpython 3.10\\WPy64-31050\\notebooks\\Machine Learning\\TensorFlow 2.0\\US Election Outcome model.h5f\\assets\n"
     ]
    },
    {
     "name": "stdout",
     "output_type": "stream",
     "text": [
      "19/19 [==============================] - 1s 40ms/step - loss: 0.1980 - accuracy: 0.9216 - val_loss: 0.2202 - val_accuracy: 0.9177 - lr: 2.0000e-04\n",
      "Epoch 16/20\n",
      " 1/19 [>.............................] - ETA: 0s - loss: 0.2231 - accuracy: 0.9141\n",
      "Epoch 16: val_accuracy did not improve from 0.91774\n",
      "19/19 [==============================] - 0s 4ms/step - loss: 0.1959 - accuracy: 0.9199 - val_loss: 0.2222 - val_accuracy: 0.9139 - lr: 2.0000e-04\n",
      "Epoch 17/20\n",
      " 1/19 [>.............................] - ETA: 0s - loss: 0.1414 - accuracy: 0.9453\n",
      "Epoch 17: val_accuracy improved from 0.91774 to 0.91902, saving model to C:\\Users\\Owner\\Desktop\\Winpython 3.10\\WPy64-31050\\notebooks\\Machine Learning\\TensorFlow 2.0\\US Election Outcome model.h5f\n"
     ]
    },
    {
     "name": "stderr",
     "output_type": "stream",
     "text": [
      "WARNING:absl:Found untraced functions such as _update_step_xla while saving (showing 1 of 1). These functions will not be directly callable after loading.\n"
     ]
    },
    {
     "name": "stdout",
     "output_type": "stream",
     "text": [
      "INFO:tensorflow:Assets written to: C:\\Users\\Owner\\Desktop\\Winpython 3.10\\WPy64-31050\\notebooks\\Machine Learning\\TensorFlow 2.0\\US Election Outcome model.h5f\\assets\n"
     ]
    },
    {
     "name": "stderr",
     "output_type": "stream",
     "text": [
      "INFO:tensorflow:Assets written to: C:\\Users\\Owner\\Desktop\\Winpython 3.10\\WPy64-31050\\notebooks\\Machine Learning\\TensorFlow 2.0\\US Election Outcome model.h5f\\assets\n"
     ]
    },
    {
     "name": "stdout",
     "output_type": "stream",
     "text": [
      "19/19 [==============================] - 1s 37ms/step - loss: 0.1953 - accuracy: 0.9207 - val_loss: 0.2193 - val_accuracy: 0.9190 - lr: 2.0000e-04\n",
      "Epoch 18/20\n",
      " 1/19 [>.............................] - ETA: 0s - loss: 0.2040 - accuracy: 0.9062\n",
      "Epoch 18: val_accuracy did not improve from 0.91902\n",
      "19/19 [==============================] - 0s 3ms/step - loss: 0.1951 - accuracy: 0.9199 - val_loss: 0.2246 - val_accuracy: 0.9139 - lr: 2.0000e-04\n",
      "Epoch 19/20\n",
      " 1/19 [>.............................] - ETA: 0s - loss: 0.1162 - accuracy: 0.9453\n",
      "Epoch 19: val_accuracy improved from 0.91902 to 0.92031, saving model to C:\\Users\\Owner\\Desktop\\Winpython 3.10\\WPy64-31050\\notebooks\\Machine Learning\\TensorFlow 2.0\\US Election Outcome model.h5f\n"
     ]
    },
    {
     "name": "stderr",
     "output_type": "stream",
     "text": [
      "WARNING:absl:Found untraced functions such as _update_step_xla while saving (showing 1 of 1). These functions will not be directly callable after loading.\n"
     ]
    },
    {
     "name": "stdout",
     "output_type": "stream",
     "text": [
      "INFO:tensorflow:Assets written to: C:\\Users\\Owner\\Desktop\\Winpython 3.10\\WPy64-31050\\notebooks\\Machine Learning\\TensorFlow 2.0\\US Election Outcome model.h5f\\assets\n"
     ]
    },
    {
     "name": "stderr",
     "output_type": "stream",
     "text": [
      "INFO:tensorflow:Assets written to: C:\\Users\\Owner\\Desktop\\Winpython 3.10\\WPy64-31050\\notebooks\\Machine Learning\\TensorFlow 2.0\\US Election Outcome model.h5f\\assets\n"
     ]
    },
    {
     "name": "stdout",
     "output_type": "stream",
     "text": [
      "19/19 [==============================] - 1s 34ms/step - loss: 0.1947 - accuracy: 0.9229 - val_loss: 0.2175 - val_accuracy: 0.9203 - lr: 2.0000e-04\n",
      "Epoch 20/20\n",
      " 1/19 [>.............................] - ETA: 0s - loss: 0.2217 - accuracy: 0.8984\n",
      "Epoch 20: val_accuracy did not improve from 0.92031\n",
      "19/19 [==============================] - 0s 3ms/step - loss: 0.1942 - accuracy: 0.9233 - val_loss: 0.2196 - val_accuracy: 0.9177 - lr: 2.0000e-04\n",
      "Model: \"sequential_2\"\n",
      "_________________________________________________________________\n",
      " Layer (type)                Output Shape              Param #   \n",
      "=================================================================\n",
      " dense_8 (Dense)             (None, 64)                2752      \n",
      "                                                                 \n",
      " dense_9 (Dense)             (None, 64)                4160      \n",
      "                                                                 \n",
      " dense_10 (Dense)            (None, 32)                2080      \n",
      "                                                                 \n",
      " dense_11 (Dense)            (None, 1)                 33        \n",
      "                                                                 \n",
      "=================================================================\n",
      "Total params: 9,025\n",
      "Trainable params: 9,025\n",
      "Non-trainable params: 0\n",
      "_________________________________________________________________\n",
      "None\n"
     ]
    }
   ],
   "source": [
    "#       ****** TENSORFLOW NEURAL NETWORK ******\n",
    "\n",
    "from tensorflow.keras.models import Sequential\n",
    "from tensorflow.keras.layers import Dense\n",
    "from sklearn.preprocessing import MinMaxScaler\n",
    "\n",
    "\n",
    "#  ****Data scaling before feeding into Neural Network*** \n",
    "\n",
    "# Using MinMaxScaler because it scales and translates each feature individually such that it is in \n",
    "# the given range on the training set, e.g. between zero and one.\n",
    "scaler = MinMaxScaler()\n",
    "\n",
    "#fitting the scaling to the training set.\n",
    "scaler.fit(X_train)\n",
    "\n",
    "#Tranforming the scaled data to training data.\n",
    "X_train_scaled = scaler.transform(X_train)\n",
    "\n",
    "#transforming the test set to the same scaling as the training set.\n",
    "X_test_scaled = scaler.transform(X_test)\n",
    "\n",
    "\n",
    "\n",
    "#for a binary classification I will be using a final dense network of 1, with a sigmoid activation.\n",
    "model = Sequential([\n",
    "    Dense(64, activation=\"relu\"),\n",
    "    Dense(64, activation=\"relu\"),\n",
    "    Dense(32, activation=\"relu\"),\n",
    "    Dense(1, activation='sigmoid')\n",
    "]);\n",
    "\n",
    "\n",
    "\n",
    "#Using 'binary_crossentropy' as the loss function because targets are a binary \"Republican\" or \"Democrat\".\n",
    "model.compile(\n",
    "    optimizer='rmsprop', \n",
    "    loss='binary_crossentropy', \n",
    "    metrics=['accuracy']\n",
    ")\n",
    "\n",
    "\n",
    "history = model.fit(X_train_scaled, y_train,\n",
    "                  epochs = 20, batch_size = 128,\n",
    "                  callbacks=callbacks,\n",
    "                  validation_data = (X_test_scaled, y_test))\n",
    "\n",
    "\n",
    "# Summary of the model:\n",
    "print(model.summary())\n",
    "\n"
   ]
  },
  {
   "cell_type": "code",
   "execution_count": 111,
   "id": "b0c0a18c",
   "metadata": {},
   "outputs": [
    {
     "data": {
      "image/png": "[encoded data removed]",
      "text/plain": [
       "<Figure size 432x288 with 1 Axes>"
      ]
     },
     "metadata": {
      "needs_background": "light"
     },
     "output_type": "display_data"
    }
   ],
   "source": [
    "import matplotlib.pyplot as plt\n",
    "\n",
    "acc = history.history['accuracy']\n",
    "val_acc = history.history['val_accuracy']\n",
    "loss = history.history['loss']\n",
    "val_loss = history.history['val_loss']\n",
    "\n",
    "epochs = range(1,len(acc)+1)\n",
    "\n",
    "plt.plot(epochs,acc, 'bo', label = 'Training Accuracy')\n",
    "plt.plot(epochs,val_acc, 'b', label = 'Validation Accuracy')\n",
    "plt.title('Training and Validation Accuracy')\n",
    "plt.xlabel('Epochs')\n",
    "plt.ylabel('Accuracy')\n",
    "plt.legend()\n",
    "plt.show()\n",
    "\n",
    "# This model does not display much overfitting and appears to generalize well to the test/validation set. In a case of\n",
    "# overfitting we would expect to see the lines of training and validation accuracy to diverge(with training accuracy approaching\n",
    "# 100%, rather than follow a similar path.\n"
   ]
  },
  {
   "cell_type": "code",
   "execution_count": 112,
   "id": "0276fcd4",
   "metadata": {},
   "outputs": [
    {
     "name": "stdout",
     "output_type": "stream",
     "text": [
      "25/25 [==============================] - 0s 1ms/step\n",
      "Confusion Matrix of Neural Network:\n",
      "[[639  12]\n",
      " [ 52  75]]\n",
      "\n"
     ]
    }
   ],
   "source": [
    "\n",
    "#page 292/293\n",
    "\n",
    "y_pred_nn = model.predict(X_test_scaled)\n",
    "confusion_matrix_neural_network = sklearn.metrics.confusion_matrix(y_test, np.rint(y_pred_nn))\n",
    "print('Confusion Matrix of Neural Network:\\n{}\\n'.format(confusion_matrix_neural_network))\n",
    "\n",
    "\n",
    "# For Tensorflow neural networks, a final dense layer with a 'sigmoid' activation is best for binary classification models.\n",
    "# This outputs a continuous number which is incompatible with the Classification Report included in the\n",
    "# Sci-Kitlearn library.\n",
    "\n"
   ]
  },
  {
   "cell_type": "code",
   "execution_count": 125,
   "id": "488bbb0b",
   "metadata": {},
   "outputs": [
    {
     "name": "stdout",
     "output_type": "stream",
     "text": [
      "0.8367609254498715\n",
      "[[651   0]\n",
      " [127   0]]\n"
     ]
    }
   ],
   "source": [
    "from sklearn.metrics import accuracy_score\n",
    "from sklearn.dummy import DummyClassifier\n",
    "\n",
    "\n",
    "# Because the dataset is imbalanced and there are many more entries for Republican (Democrat = 487, Republican = 2624) I will\n",
    "# run the data against a dummy classifier that chooses the most frequent class. If the dummy classifier ends up with an accuracy\n",
    "# similar or better than the machine learning models then those models of are little use. \n",
    "\n",
    "\n",
    "dummy_classifier = DummyClassifier(strategy='most_frequent').fit(X_train,y_train)\n",
    "predict_most_frequent = dummy_classifier.predict(X_test)\n",
    "print(dummy_classifier.score(X_test,y_test))\n",
    "\n",
    "# Confusion Matrix for Dummy classifier\n",
    "print(confusion_matrix(y_test,predict_most_frequent))\n"
   ]
  },
  {
   "cell_type": "code",
   "execution_count": null,
   "id": "f696f937",
   "metadata": {},
   "outputs": [],
   "source": [
    "######   ANALYZING THE MODELS   ######\n",
    "'''\n",
    "\n",
    "***Confusion Matrices Summarized***\n",
    "\n",
    "How a confusion matrix works:\n",
    "\n",
    "               -----------------------------------------   \n",
    "Negative Class | True Negative    | False Positive     |\n",
    "               -----------------------------------------\n",
    "Positive Class | False Negative   | True Positive      |\n",
    "               ----------------------------------------- \n",
    "                predicted negative| predicted positive \n",
    "\n",
    "\n",
    "\n",
    "K-Nearest Neighbor Model:\n",
    "[[642   9]\n",
    " [ 66  61]]\n",
    "\n",
    "\n",
    "Random Forest Model:\n",
    "[[639  12]\n",
    " [ 53  74]]\n",
    " \n",
    " \n",
    "XGBoost (Gradient boosted Trees) Model:\n",
    "[[635  16]\n",
    " [ 52  75]]\n",
    "\n",
    "\n",
    "Neural Network Model:\n",
    "[[639  12]\n",
    " [ 52  75]]\n",
    "\n",
    "\n",
    "Dummy Classifier (Most Frequent)\n",
    "[[651   0]\n",
    " [127   0]]\n",
    " \n",
    " \n",
    "Overall, The different models all performed similarly. When compared to the Dummy baseline model (83.7% accuracy),\n",
    "we had a modest increase in accuracy. The high accuracy of the Dummy model is due to the dataset's imbalance towards Republican\n",
    "vs. Democrat. Overall the Neural Network model had the highest accuracy at 94.5, only slightly better than the other models.\n",
    "\n",
    "\n",
    "The best KNN model had an accuracy of 91.2%\n",
    "The best Random Forest model had an accuracy of 92.3%\n",
    "The best XGBoost model had an accuracy of 93.2%\n",
    "The best Neural Network model had an accuracy of 94.5%\n",
    "\n",
    "\n",
    "For imbalanced datasets it is also important to look at the F1 score (harmonic mean between Precision and Recall),\n",
    "which can give a better insight into incorrectly classified datapoints. \n",
    "\n",
    "\n",
    "The best KNN model had an F1 score of 89%\n",
    "The best Random Forest model had an F1 score of 91%\n",
    "The best XGBoost model had an F1 score of 91%\n",
    "The Neural Network model output was not compatible with Sci-Kitlearn's classification report.\n",
    "\n",
    "\n",
    "When looking at the F1-Score reports for the non-Tensorflow models we see a Recall value for Democrats at less than 60%. \n",
    "Recall measures how many of the positive (in this case Democrat) samples are captured by the positive predictions. \n",
    "A value below 60% isn't particularly great, considering that Recall for the negative class (in this case Republican)\n",
    "is 98 to 99%. \n",
    "\n",
    "\n",
    "This dataset shows that a more complex model, such as a Neural network, did not perform significantly better than a\n",
    "simple K-Nearest Neighbors model. Overall, the Neural Network did have the best accuracy by a few percentage points, and had a \n",
    "similar Precision and recall value to the Random Forest model. \n",
    "\n",
    "-Adam Szczepanski\n",
    "\n",
    "'''"
   ]
  }
 ],
 "metadata": {
  "kernelspec": {
   "display_name": "Python 3 (ipykernel)",
   "language": "python",
   "name": "python3"
  },
  "language_info": {
   "codemirror_mode": {
    "name": "ipython",
    "version": 3
   },
   "file_extension": ".py",
   "mimetype": "text/x-python",
   "name": "python",
   "nbconvert_exporter": "python",
   "pygments_lexer": "ipython3",
   "version": "3.10.5"
  }
 },
 "nbformat": 4,
 "nbformat_minor": 5
}
